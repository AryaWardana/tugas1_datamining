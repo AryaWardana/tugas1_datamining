{
  "nbformat": 4,
  "nbformat_minor": 0,
  "metadata": {
    "colab": {
      "provenance": [],
      "authorship_tag": "ABX9TyNy4MpaRLCFpQnQou+epKJi",
      "include_colab_link": true
    },
    "kernelspec": {
      "name": "python3",
      "display_name": "Python 3"
    },
    "language_info": {
      "name": "python"
    }
  },
  "cells": [
    {
      "cell_type": "markdown",
      "metadata": {
        "id": "view-in-github",
        "colab_type": "text"
      },
      "source": [
        "<a href=\"https://colab.research.google.com/github/AryaWardana/tugas1_datamining/blob/main/CheckPoint2_arya_wahyu_wardana.ipynb\" target=\"_parent\"><img src=\"https://colab.research.google.com/assets/colab-badge.svg\" alt=\"Open In Colab\"/></a>"
      ]
    },
    {
      "cell_type": "markdown",
      "source": [
        "# **Mall visiting customer**"
      ],
      "metadata": {
        "id": "RAEMoyaKH5sT"
      }
    },
    {
      "cell_type": "markdown",
      "source": [
        "# **Import Libary**"
      ],
      "metadata": {
        "id": "wNc0ndjPws-G"
      }
    },
    {
      "cell_type": "code",
      "source": [
        "import pandas as pd\n",
        "import matplotlib.pyplot as plt\n",
        "import seaborn as sns"
      ],
      "metadata": {
        "id": "is2h4DELwybo"
      },
      "execution_count": null,
      "outputs": []
    },
    {
      "cell_type": "markdown",
      "source": [
        "#**BUSINESS UNDERSTANDING**"
      ],
      "metadata": {
        "id": "kJHvbrB0xrfu"
      }
    },
    {
      "cell_type": "markdown",
      "source": [
        "**Business Objective**\n",
        "\n",
        "Tujuan utama adalah memahami dan memprediksi perilaku pelanggan di mal untuk meningkatkan pengalaman berbelanja secara keseluruhan dan meningkatkan penjualan bagi pengecer. Ini termasuk memahami faktor-faktor yang mendorong kunjungan pelanggan, durasi tinggal, dan kemungkinan pembelian selama setiap kunjungan."
      ],
      "metadata": {
        "id": "6AN0sms7H9mS"
      }
    },
    {
      "cell_type": "markdown",
      "source": [
        "**Assess Situationt**\n",
        "\n",
        "Saat ini, manajemen mal kurang memiliki wawasan rinci tentang perilaku pelanggan. Mereka ingin tahu lebih banyak tentang demografi pelanggan, preferensi, dan pola untuk menyesuaikan layanan dan promosi dengan lebih baik. Selain itu, memahami jam kunjungan puncak dan area populer di dalam mal dapat membantu mengoptimalkan penataan dan tata letak."
      ],
      "metadata": {
        "id": "ol9gc0ERIaCI"
      }
    },
    {
      "cell_type": "markdown",
      "source": [
        "**Data Minning Goals**\n",
        "\n",
        "- Segmentasi Pelanggan: Identifikasi segmen pelanggan yang berbeda berdasarkan demografi, frekuensi kunjungan, dan kebiasaan pengeluaran.\n",
        "\n",
        "- Penambangan Aturan Asosiasi: Tentukan toko mana yang sering dikunjungi bersama dan promosi mana yang paling efektif.\n",
        "\n",
        "- Analitika Prediktif: Prediksi pelanggan mana yang mungkin mengunjungi mal, berapa lama mereka akan tinggal, dan berapa banyak uang yang mungkin mereka habiskan.\n",
        "\n",
        "- Sistem Rekomendasi: Sarankan penawaran personalisasi atau rekomendasi toko berdasarkan perilaku masa lalu."
      ],
      "metadata": {
        "id": "CTGyjUTrIpMb"
      }
    },
    {
      "cell_type": "markdown",
      "source": [
        "**Prjocect Plan**\n",
        "\n",
        "- Pengumpulan Data: Kumpulkan data tentang kunjungan pelanggan, transaksi, dan demografi dari basis data mal dan program loyalitas.\n",
        "\n",
        "- Pra-pemrosesan Data: Bersihkan dan siapkan data untuk analisis, termasuk menangani nilai yang hilang dan outlier.\n",
        "\n",
        "- Analisis Data Eksploratif: Pahami distribusi data, korelasi, dan tren.\n",
        "\n",
        "- Modeling: Terapkan berbagai teknik penambangan data seperti pengelompokan, penambangan aturan asosiasi, dan pemodelan prediktif.\n",
        "\n",
        "- Evaluasi: Evaluasi kinerja model menggunakan metrik seperti akurasi, presisi, dan recall.\n",
        "\n",
        "- Implementasi: Implementasikan temuan dan rekomendasi ke dalam operasi mal, strategi pemasaran, dan inisiatif keterlibatan pelanggan."
      ],
      "metadata": {
        "id": "-9iLz-MiI9ql"
      }
    },
    {
      "cell_type": "markdown",
      "source": [
        "#**DATA UNDERSTANDING**"
      ],
      "metadata": {
        "id": "MUNN6Te_xzyB"
      }
    },
    {
      "cell_type": "markdown",
      "source": [
        "##**Collect Initial Data**"
      ],
      "metadata": {
        "id": "Xna_GI-Ax5mU"
      }
    },
    {
      "cell_type": "code",
      "source": [
        "df = pd.read_csv(\"Mall_Customers.csv\")\n",
        "df.head()"
      ],
      "metadata": {
        "colab": {
          "base_uri": "https://localhost:8080/",
          "height": 206
        },
        "id": "F6tAsds6x_Nk",
        "outputId": "454a2d0a-cbd9-41e2-8b9d-d322f8f38ffc"
      },
      "execution_count": null,
      "outputs": [
        {
          "output_type": "execute_result",
          "data": {
            "text/plain": [
              "   CustomerID  Gender  Age  Annual Income (k$)  Spending Score (1-100)\n",
              "0           1    Male   19                  15                      39\n",
              "1           2    Male   21                  15                      81\n",
              "2           3  Female   20                  16                       6\n",
              "3           4  Female   23                  16                      77\n",
              "4           5  Female   31                  17                      40"
            ],
            "text/html": [
              "\n",
              "  <div id=\"df-67e1b43b-6ae9-4312-aa64-6ddb7bd991ac\" class=\"colab-df-container\">\n",
              "    <div>\n",
              "<style scoped>\n",
              "    .dataframe tbody tr th:only-of-type {\n",
              "        vertical-align: middle;\n",
              "    }\n",
              "\n",
              "    .dataframe tbody tr th {\n",
              "        vertical-align: top;\n",
              "    }\n",
              "\n",
              "    .dataframe thead th {\n",
              "        text-align: right;\n",
              "    }\n",
              "</style>\n",
              "<table border=\"1\" class=\"dataframe\">\n",
              "  <thead>\n",
              "    <tr style=\"text-align: right;\">\n",
              "      <th></th>\n",
              "      <th>CustomerID</th>\n",
              "      <th>Gender</th>\n",
              "      <th>Age</th>\n",
              "      <th>Annual Income (k$)</th>\n",
              "      <th>Spending Score (1-100)</th>\n",
              "    </tr>\n",
              "  </thead>\n",
              "  <tbody>\n",
              "    <tr>\n",
              "      <th>0</th>\n",
              "      <td>1</td>\n",
              "      <td>Male</td>\n",
              "      <td>19</td>\n",
              "      <td>15</td>\n",
              "      <td>39</td>\n",
              "    </tr>\n",
              "    <tr>\n",
              "      <th>1</th>\n",
              "      <td>2</td>\n",
              "      <td>Male</td>\n",
              "      <td>21</td>\n",
              "      <td>15</td>\n",
              "      <td>81</td>\n",
              "    </tr>\n",
              "    <tr>\n",
              "      <th>2</th>\n",
              "      <td>3</td>\n",
              "      <td>Female</td>\n",
              "      <td>20</td>\n",
              "      <td>16</td>\n",
              "      <td>6</td>\n",
              "    </tr>\n",
              "    <tr>\n",
              "      <th>3</th>\n",
              "      <td>4</td>\n",
              "      <td>Female</td>\n",
              "      <td>23</td>\n",
              "      <td>16</td>\n",
              "      <td>77</td>\n",
              "    </tr>\n",
              "    <tr>\n",
              "      <th>4</th>\n",
              "      <td>5</td>\n",
              "      <td>Female</td>\n",
              "      <td>31</td>\n",
              "      <td>17</td>\n",
              "      <td>40</td>\n",
              "    </tr>\n",
              "  </tbody>\n",
              "</table>\n",
              "</div>\n",
              "    <div class=\"colab-df-buttons\">\n",
              "\n",
              "  <div class=\"colab-df-container\">\n",
              "    <button class=\"colab-df-convert\" onclick=\"convertToInteractive('df-67e1b43b-6ae9-4312-aa64-6ddb7bd991ac')\"\n",
              "            title=\"Convert this dataframe to an interactive table.\"\n",
              "            style=\"display:none;\">\n",
              "\n",
              "  <svg xmlns=\"http://www.w3.org/2000/svg\" height=\"24px\" viewBox=\"0 -960 960 960\">\n",
              "    <path d=\"M120-120v-720h720v720H120Zm60-500h600v-160H180v160Zm220 220h160v-160H400v160Zm0 220h160v-160H400v160ZM180-400h160v-160H180v160Zm440 0h160v-160H620v160ZM180-180h160v-160H180v160Zm440 0h160v-160H620v160Z\"/>\n",
              "  </svg>\n",
              "    </button>\n",
              "\n",
              "  <style>\n",
              "    .colab-df-container {\n",
              "      display:flex;\n",
              "      gap: 12px;\n",
              "    }\n",
              "\n",
              "    .colab-df-convert {\n",
              "      background-color: #E8F0FE;\n",
              "      border: none;\n",
              "      border-radius: 50%;\n",
              "      cursor: pointer;\n",
              "      display: none;\n",
              "      fill: #1967D2;\n",
              "      height: 32px;\n",
              "      padding: 0 0 0 0;\n",
              "      width: 32px;\n",
              "    }\n",
              "\n",
              "    .colab-df-convert:hover {\n",
              "      background-color: #E2EBFA;\n",
              "      box-shadow: 0px 1px 2px rgba(60, 64, 67, 0.3), 0px 1px 3px 1px rgba(60, 64, 67, 0.15);\n",
              "      fill: #174EA6;\n",
              "    }\n",
              "\n",
              "    .colab-df-buttons div {\n",
              "      margin-bottom: 4px;\n",
              "    }\n",
              "\n",
              "    [theme=dark] .colab-df-convert {\n",
              "      background-color: #3B4455;\n",
              "      fill: #D2E3FC;\n",
              "    }\n",
              "\n",
              "    [theme=dark] .colab-df-convert:hover {\n",
              "      background-color: #434B5C;\n",
              "      box-shadow: 0px 1px 3px 1px rgba(0, 0, 0, 0.15);\n",
              "      filter: drop-shadow(0px 1px 2px rgba(0, 0, 0, 0.3));\n",
              "      fill: #FFFFFF;\n",
              "    }\n",
              "  </style>\n",
              "\n",
              "    <script>\n",
              "      const buttonEl =\n",
              "        document.querySelector('#df-67e1b43b-6ae9-4312-aa64-6ddb7bd991ac button.colab-df-convert');\n",
              "      buttonEl.style.display =\n",
              "        google.colab.kernel.accessAllowed ? 'block' : 'none';\n",
              "\n",
              "      async function convertToInteractive(key) {\n",
              "        const element = document.querySelector('#df-67e1b43b-6ae9-4312-aa64-6ddb7bd991ac');\n",
              "        const dataTable =\n",
              "          await google.colab.kernel.invokeFunction('convertToInteractive',\n",
              "                                                    [key], {});\n",
              "        if (!dataTable) return;\n",
              "\n",
              "        const docLinkHtml = 'Like what you see? Visit the ' +\n",
              "          '<a target=\"_blank\" href=https://colab.research.google.com/notebooks/data_table.ipynb>data table notebook</a>'\n",
              "          + ' to learn more about interactive tables.';\n",
              "        element.innerHTML = '';\n",
              "        dataTable['output_type'] = 'display_data';\n",
              "        await google.colab.output.renderOutput(dataTable, element);\n",
              "        const docLink = document.createElement('div');\n",
              "        docLink.innerHTML = docLinkHtml;\n",
              "        element.appendChild(docLink);\n",
              "      }\n",
              "    </script>\n",
              "  </div>\n",
              "\n",
              "\n",
              "<div id=\"df-04fd59f9-dcf7-4aa6-a021-2e7196b4adba\">\n",
              "  <button class=\"colab-df-quickchart\" onclick=\"quickchart('df-04fd59f9-dcf7-4aa6-a021-2e7196b4adba')\"\n",
              "            title=\"Suggest charts\"\n",
              "            style=\"display:none;\">\n",
              "\n",
              "<svg xmlns=\"http://www.w3.org/2000/svg\" height=\"24px\"viewBox=\"0 0 24 24\"\n",
              "     width=\"24px\">\n",
              "    <g>\n",
              "        <path d=\"M19 3H5c-1.1 0-2 .9-2 2v14c0 1.1.9 2 2 2h14c1.1 0 2-.9 2-2V5c0-1.1-.9-2-2-2zM9 17H7v-7h2v7zm4 0h-2V7h2v10zm4 0h-2v-4h2v4z\"/>\n",
              "    </g>\n",
              "</svg>\n",
              "  </button>\n",
              "\n",
              "<style>\n",
              "  .colab-df-quickchart {\n",
              "      --bg-color: #E8F0FE;\n",
              "      --fill-color: #1967D2;\n",
              "      --hover-bg-color: #E2EBFA;\n",
              "      --hover-fill-color: #174EA6;\n",
              "      --disabled-fill-color: #AAA;\n",
              "      --disabled-bg-color: #DDD;\n",
              "  }\n",
              "\n",
              "  [theme=dark] .colab-df-quickchart {\n",
              "      --bg-color: #3B4455;\n",
              "      --fill-color: #D2E3FC;\n",
              "      --hover-bg-color: #434B5C;\n",
              "      --hover-fill-color: #FFFFFF;\n",
              "      --disabled-bg-color: #3B4455;\n",
              "      --disabled-fill-color: #666;\n",
              "  }\n",
              "\n",
              "  .colab-df-quickchart {\n",
              "    background-color: var(--bg-color);\n",
              "    border: none;\n",
              "    border-radius: 50%;\n",
              "    cursor: pointer;\n",
              "    display: none;\n",
              "    fill: var(--fill-color);\n",
              "    height: 32px;\n",
              "    padding: 0;\n",
              "    width: 32px;\n",
              "  }\n",
              "\n",
              "  .colab-df-quickchart:hover {\n",
              "    background-color: var(--hover-bg-color);\n",
              "    box-shadow: 0 1px 2px rgba(60, 64, 67, 0.3), 0 1px 3px 1px rgba(60, 64, 67, 0.15);\n",
              "    fill: var(--button-hover-fill-color);\n",
              "  }\n",
              "\n",
              "  .colab-df-quickchart-complete:disabled,\n",
              "  .colab-df-quickchart-complete:disabled:hover {\n",
              "    background-color: var(--disabled-bg-color);\n",
              "    fill: var(--disabled-fill-color);\n",
              "    box-shadow: none;\n",
              "  }\n",
              "\n",
              "  .colab-df-spinner {\n",
              "    border: 2px solid var(--fill-color);\n",
              "    border-color: transparent;\n",
              "    border-bottom-color: var(--fill-color);\n",
              "    animation:\n",
              "      spin 1s steps(1) infinite;\n",
              "  }\n",
              "\n",
              "  @keyframes spin {\n",
              "    0% {\n",
              "      border-color: transparent;\n",
              "      border-bottom-color: var(--fill-color);\n",
              "      border-left-color: var(--fill-color);\n",
              "    }\n",
              "    20% {\n",
              "      border-color: transparent;\n",
              "      border-left-color: var(--fill-color);\n",
              "      border-top-color: var(--fill-color);\n",
              "    }\n",
              "    30% {\n",
              "      border-color: transparent;\n",
              "      border-left-color: var(--fill-color);\n",
              "      border-top-color: var(--fill-color);\n",
              "      border-right-color: var(--fill-color);\n",
              "    }\n",
              "    40% {\n",
              "      border-color: transparent;\n",
              "      border-right-color: var(--fill-color);\n",
              "      border-top-color: var(--fill-color);\n",
              "    }\n",
              "    60% {\n",
              "      border-color: transparent;\n",
              "      border-right-color: var(--fill-color);\n",
              "    }\n",
              "    80% {\n",
              "      border-color: transparent;\n",
              "      border-right-color: var(--fill-color);\n",
              "      border-bottom-color: var(--fill-color);\n",
              "    }\n",
              "    90% {\n",
              "      border-color: transparent;\n",
              "      border-bottom-color: var(--fill-color);\n",
              "    }\n",
              "  }\n",
              "</style>\n",
              "\n",
              "  <script>\n",
              "    async function quickchart(key) {\n",
              "      const quickchartButtonEl =\n",
              "        document.querySelector('#' + key + ' button');\n",
              "      quickchartButtonEl.disabled = true;  // To prevent multiple clicks.\n",
              "      quickchartButtonEl.classList.add('colab-df-spinner');\n",
              "      try {\n",
              "        const charts = await google.colab.kernel.invokeFunction(\n",
              "            'suggestCharts', [key], {});\n",
              "      } catch (error) {\n",
              "        console.error('Error during call to suggestCharts:', error);\n",
              "      }\n",
              "      quickchartButtonEl.classList.remove('colab-df-spinner');\n",
              "      quickchartButtonEl.classList.add('colab-df-quickchart-complete');\n",
              "    }\n",
              "    (() => {\n",
              "      let quickchartButtonEl =\n",
              "        document.querySelector('#df-04fd59f9-dcf7-4aa6-a021-2e7196b4adba button');\n",
              "      quickchartButtonEl.style.display =\n",
              "        google.colab.kernel.accessAllowed ? 'block' : 'none';\n",
              "    })();\n",
              "  </script>\n",
              "</div>\n",
              "    </div>\n",
              "  </div>\n"
            ],
            "application/vnd.google.colaboratory.intrinsic+json": {
              "type": "dataframe",
              "variable_name": "df",
              "summary": "{\n  \"name\": \"df\",\n  \"rows\": 200,\n  \"fields\": [\n    {\n      \"column\": \"CustomerID\",\n      \"properties\": {\n        \"dtype\": \"number\",\n        \"std\": 57,\n        \"min\": 1,\n        \"max\": 200,\n        \"num_unique_values\": 200,\n        \"samples\": [\n          96,\n          16,\n          31\n        ],\n        \"semantic_type\": \"\",\n        \"description\": \"\"\n      }\n    },\n    {\n      \"column\": \"Gender\",\n      \"properties\": {\n        \"dtype\": \"category\",\n        \"num_unique_values\": 2,\n        \"samples\": [\n          \"Female\",\n          \"Male\"\n        ],\n        \"semantic_type\": \"\",\n        \"description\": \"\"\n      }\n    },\n    {\n      \"column\": \"Age\",\n      \"properties\": {\n        \"dtype\": \"number\",\n        \"std\": 13,\n        \"min\": 18,\n        \"max\": 70,\n        \"num_unique_values\": 51,\n        \"samples\": [\n          55,\n          26\n        ],\n        \"semantic_type\": \"\",\n        \"description\": \"\"\n      }\n    },\n    {\n      \"column\": \"Annual Income (k$)\",\n      \"properties\": {\n        \"dtype\": \"number\",\n        \"std\": 26,\n        \"min\": 15,\n        \"max\": 137,\n        \"num_unique_values\": 64,\n        \"samples\": [\n          87,\n          101\n        ],\n        \"semantic_type\": \"\",\n        \"description\": \"\"\n      }\n    },\n    {\n      \"column\": \"Spending Score (1-100)\",\n      \"properties\": {\n        \"dtype\": \"number\",\n        \"std\": 25,\n        \"min\": 1,\n        \"max\": 99,\n        \"num_unique_values\": 84,\n        \"samples\": [\n          83,\n          39\n        ],\n        \"semantic_type\": \"\",\n        \"description\": \"\"\n      }\n    }\n  ]\n}"
            }
          },
          "metadata": {},
          "execution_count": 2
        }
      ]
    },
    {
      "cell_type": "markdown",
      "source": [
        "##**Describe Data**"
      ],
      "metadata": {
        "id": "ECtGJQOxyiTb"
      }
    },
    {
      "cell_type": "markdown",
      "source": [
        "####Informasi Dasar"
      ],
      "metadata": {
        "id": "O3DdZHW-ynB6"
      }
    },
    {
      "cell_type": "code",
      "source": [
        "jumlah_baris, jumlah_kolom = df.shape\n",
        "print(f\"Jumlah Baris: {jumlah_baris}\")\n",
        "print(f\"Jumlah Kolom: {jumlah_kolom}\")"
      ],
      "metadata": {
        "colab": {
          "base_uri": "https://localhost:8080/"
        },
        "id": "6c9YL5M0yoOR",
        "outputId": "24a881de-1b75-42ac-d590-5141d0cbf066"
      },
      "execution_count": null,
      "outputs": [
        {
          "output_type": "stream",
          "name": "stdout",
          "text": [
            "Jumlah Baris: 200\n",
            "Jumlah Kolom: 5\n"
          ]
        }
      ]
    },
    {
      "cell_type": "markdown",
      "source": [
        "untuk hasil dari dataset ini yaitu menampilkan jumlah baris dan jumlah kolom dan untuk jumlahnya adalah jumlah baris berjumlah 200 dan jumlah kolom berjumlah 5."
      ],
      "metadata": {
        "id": "qTh-TrWDzBfe"
      }
    },
    {
      "cell_type": "markdown",
      "source": [
        "####Informasi Lanjutan"
      ],
      "metadata": {
        "id": "QWw-VRcAzcPL"
      }
    },
    {
      "cell_type": "code",
      "source": [
        "df.info()"
      ],
      "metadata": {
        "colab": {
          "base_uri": "https://localhost:8080/"
        },
        "id": "Py9F_vw9zfGy",
        "outputId": "f288983c-0024-4487-b092-7384cd6e57a9"
      },
      "execution_count": null,
      "outputs": [
        {
          "output_type": "stream",
          "name": "stdout",
          "text": [
            "<class 'pandas.core.frame.DataFrame'>\n",
            "RangeIndex: 200 entries, 0 to 199\n",
            "Data columns (total 5 columns):\n",
            " #   Column                  Non-Null Count  Dtype \n",
            "---  ------                  --------------  ----- \n",
            " 0   CustomerID              200 non-null    int64 \n",
            " 1   Gender                  200 non-null    object\n",
            " 2   Age                     200 non-null    int64 \n",
            " 3   Annual Income (k$)      200 non-null    int64 \n",
            " 4   Spending Score (1-100)  200 non-null    int64 \n",
            "dtypes: int64(4), object(1)\n",
            "memory usage: 7.9+ KB\n"
          ]
        }
      ]
    },
    {
      "cell_type": "markdown",
      "source": [
        "Dari data yang diberikan, terdapat lima kolom. Berikut adalah penjelasan masing-masing kolom:\n",
        "\n",
        "- CustomerID: Ini adalah kolom yang berisi ID unik untuk setiap pelanggan. Tipe data kolom ini adalah int64, yang berarti itu adalah bilangan bulat dengan tanda (positif atau negatif).\n",
        "\n",
        "- Gender: Kolom ini berisi informasi tentang jenis kelamin pelanggan. Tipe data kolom ini adalah object, yang berarti itu adalah tipe data string atau teks.\n",
        "\n",
        "- Age: Ini adalah kolom yang berisi informasi tentang usia pelanggan. Tipe data kolom ini adalah int64, yang berarti itu adalah bilangan bulat dengan tanda (positif atau negatif).\n",
        "\n",
        "- Annual Income (k$): Ini adalah kolom yang berisi informasi tentang pendapatan tahunan pelanggan dalam ribuan dolar. Tipe data kolom ini adalah int64, yang berarti itu adalah bilangan bulat dengan tanda (positif atau negatif).\n",
        "\n",
        "- Spending Score (1-100): Ini adalah kolom yang berisi informasi tentang skor pengeluaran pelanggan, yang diberikan dalam rentang 1 hingga 100. Tipe data kolom ini adalah int64, yang berarti itu adalah bilangan bulat dengan tanda (positif atau negatif).\n",
        "\n",
        "Jumlah total baris dalam dataset ini adalah 200, yang berarti terdapat 200 entri atau data dalam dataset ini."
      ],
      "metadata": {
        "id": "w4pkUUnizslo"
      }
    },
    {
      "cell_type": "markdown",
      "source": [
        "####Informasi Statistik Deskriptif"
      ],
      "metadata": {
        "id": "YytyvBA10HP5"
      }
    },
    {
      "cell_type": "code",
      "source": [
        "df.describe()"
      ],
      "metadata": {
        "colab": {
          "base_uri": "https://localhost:8080/",
          "height": 300
        },
        "id": "q2oW9Req0LTA",
        "outputId": "aa191b7b-4dbd-4bfb-a99e-a119664fded2"
      },
      "execution_count": null,
      "outputs": [
        {
          "output_type": "execute_result",
          "data": {
            "text/plain": [
              "       CustomerID         Age  Annual Income (k$)  Spending Score (1-100)\n",
              "count  200.000000  200.000000          200.000000              200.000000\n",
              "mean   100.500000   38.850000           60.560000               50.200000\n",
              "std     57.879185   13.969007           26.264721               25.823522\n",
              "min      1.000000   18.000000           15.000000                1.000000\n",
              "25%     50.750000   28.750000           41.500000               34.750000\n",
              "50%    100.500000   36.000000           61.500000               50.000000\n",
              "75%    150.250000   49.000000           78.000000               73.000000\n",
              "max    200.000000   70.000000          137.000000               99.000000"
            ],
            "text/html": [
              "\n",
              "  <div id=\"df-30619b92-d425-4a91-9a48-b3c8047ea48f\" class=\"colab-df-container\">\n",
              "    <div>\n",
              "<style scoped>\n",
              "    .dataframe tbody tr th:only-of-type {\n",
              "        vertical-align: middle;\n",
              "    }\n",
              "\n",
              "    .dataframe tbody tr th {\n",
              "        vertical-align: top;\n",
              "    }\n",
              "\n",
              "    .dataframe thead th {\n",
              "        text-align: right;\n",
              "    }\n",
              "</style>\n",
              "<table border=\"1\" class=\"dataframe\">\n",
              "  <thead>\n",
              "    <tr style=\"text-align: right;\">\n",
              "      <th></th>\n",
              "      <th>CustomerID</th>\n",
              "      <th>Age</th>\n",
              "      <th>Annual Income (k$)</th>\n",
              "      <th>Spending Score (1-100)</th>\n",
              "    </tr>\n",
              "  </thead>\n",
              "  <tbody>\n",
              "    <tr>\n",
              "      <th>count</th>\n",
              "      <td>200.000000</td>\n",
              "      <td>200.000000</td>\n",
              "      <td>200.000000</td>\n",
              "      <td>200.000000</td>\n",
              "    </tr>\n",
              "    <tr>\n",
              "      <th>mean</th>\n",
              "      <td>100.500000</td>\n",
              "      <td>38.850000</td>\n",
              "      <td>60.560000</td>\n",
              "      <td>50.200000</td>\n",
              "    </tr>\n",
              "    <tr>\n",
              "      <th>std</th>\n",
              "      <td>57.879185</td>\n",
              "      <td>13.969007</td>\n",
              "      <td>26.264721</td>\n",
              "      <td>25.823522</td>\n",
              "    </tr>\n",
              "    <tr>\n",
              "      <th>min</th>\n",
              "      <td>1.000000</td>\n",
              "      <td>18.000000</td>\n",
              "      <td>15.000000</td>\n",
              "      <td>1.000000</td>\n",
              "    </tr>\n",
              "    <tr>\n",
              "      <th>25%</th>\n",
              "      <td>50.750000</td>\n",
              "      <td>28.750000</td>\n",
              "      <td>41.500000</td>\n",
              "      <td>34.750000</td>\n",
              "    </tr>\n",
              "    <tr>\n",
              "      <th>50%</th>\n",
              "      <td>100.500000</td>\n",
              "      <td>36.000000</td>\n",
              "      <td>61.500000</td>\n",
              "      <td>50.000000</td>\n",
              "    </tr>\n",
              "    <tr>\n",
              "      <th>75%</th>\n",
              "      <td>150.250000</td>\n",
              "      <td>49.000000</td>\n",
              "      <td>78.000000</td>\n",
              "      <td>73.000000</td>\n",
              "    </tr>\n",
              "    <tr>\n",
              "      <th>max</th>\n",
              "      <td>200.000000</td>\n",
              "      <td>70.000000</td>\n",
              "      <td>137.000000</td>\n",
              "      <td>99.000000</td>\n",
              "    </tr>\n",
              "  </tbody>\n",
              "</table>\n",
              "</div>\n",
              "    <div class=\"colab-df-buttons\">\n",
              "\n",
              "  <div class=\"colab-df-container\">\n",
              "    <button class=\"colab-df-convert\" onclick=\"convertToInteractive('df-30619b92-d425-4a91-9a48-b3c8047ea48f')\"\n",
              "            title=\"Convert this dataframe to an interactive table.\"\n",
              "            style=\"display:none;\">\n",
              "\n",
              "  <svg xmlns=\"http://www.w3.org/2000/svg\" height=\"24px\" viewBox=\"0 -960 960 960\">\n",
              "    <path d=\"M120-120v-720h720v720H120Zm60-500h600v-160H180v160Zm220 220h160v-160H400v160Zm0 220h160v-160H400v160ZM180-400h160v-160H180v160Zm440 0h160v-160H620v160ZM180-180h160v-160H180v160Zm440 0h160v-160H620v160Z\"/>\n",
              "  </svg>\n",
              "    </button>\n",
              "\n",
              "  <style>\n",
              "    .colab-df-container {\n",
              "      display:flex;\n",
              "      gap: 12px;\n",
              "    }\n",
              "\n",
              "    .colab-df-convert {\n",
              "      background-color: #E8F0FE;\n",
              "      border: none;\n",
              "      border-radius: 50%;\n",
              "      cursor: pointer;\n",
              "      display: none;\n",
              "      fill: #1967D2;\n",
              "      height: 32px;\n",
              "      padding: 0 0 0 0;\n",
              "      width: 32px;\n",
              "    }\n",
              "\n",
              "    .colab-df-convert:hover {\n",
              "      background-color: #E2EBFA;\n",
              "      box-shadow: 0px 1px 2px rgba(60, 64, 67, 0.3), 0px 1px 3px 1px rgba(60, 64, 67, 0.15);\n",
              "      fill: #174EA6;\n",
              "    }\n",
              "\n",
              "    .colab-df-buttons div {\n",
              "      margin-bottom: 4px;\n",
              "    }\n",
              "\n",
              "    [theme=dark] .colab-df-convert {\n",
              "      background-color: #3B4455;\n",
              "      fill: #D2E3FC;\n",
              "    }\n",
              "\n",
              "    [theme=dark] .colab-df-convert:hover {\n",
              "      background-color: #434B5C;\n",
              "      box-shadow: 0px 1px 3px 1px rgba(0, 0, 0, 0.15);\n",
              "      filter: drop-shadow(0px 1px 2px rgba(0, 0, 0, 0.3));\n",
              "      fill: #FFFFFF;\n",
              "    }\n",
              "  </style>\n",
              "\n",
              "    <script>\n",
              "      const buttonEl =\n",
              "        document.querySelector('#df-30619b92-d425-4a91-9a48-b3c8047ea48f button.colab-df-convert');\n",
              "      buttonEl.style.display =\n",
              "        google.colab.kernel.accessAllowed ? 'block' : 'none';\n",
              "\n",
              "      async function convertToInteractive(key) {\n",
              "        const element = document.querySelector('#df-30619b92-d425-4a91-9a48-b3c8047ea48f');\n",
              "        const dataTable =\n",
              "          await google.colab.kernel.invokeFunction('convertToInteractive',\n",
              "                                                    [key], {});\n",
              "        if (!dataTable) return;\n",
              "\n",
              "        const docLinkHtml = 'Like what you see? Visit the ' +\n",
              "          '<a target=\"_blank\" href=https://colab.research.google.com/notebooks/data_table.ipynb>data table notebook</a>'\n",
              "          + ' to learn more about interactive tables.';\n",
              "        element.innerHTML = '';\n",
              "        dataTable['output_type'] = 'display_data';\n",
              "        await google.colab.output.renderOutput(dataTable, element);\n",
              "        const docLink = document.createElement('div');\n",
              "        docLink.innerHTML = docLinkHtml;\n",
              "        element.appendChild(docLink);\n",
              "      }\n",
              "    </script>\n",
              "  </div>\n",
              "\n",
              "\n",
              "<div id=\"df-110150d9-58eb-4492-b9db-84b27a263eb5\">\n",
              "  <button class=\"colab-df-quickchart\" onclick=\"quickchart('df-110150d9-58eb-4492-b9db-84b27a263eb5')\"\n",
              "            title=\"Suggest charts\"\n",
              "            style=\"display:none;\">\n",
              "\n",
              "<svg xmlns=\"http://www.w3.org/2000/svg\" height=\"24px\"viewBox=\"0 0 24 24\"\n",
              "     width=\"24px\">\n",
              "    <g>\n",
              "        <path d=\"M19 3H5c-1.1 0-2 .9-2 2v14c0 1.1.9 2 2 2h14c1.1 0 2-.9 2-2V5c0-1.1-.9-2-2-2zM9 17H7v-7h2v7zm4 0h-2V7h2v10zm4 0h-2v-4h2v4z\"/>\n",
              "    </g>\n",
              "</svg>\n",
              "  </button>\n",
              "\n",
              "<style>\n",
              "  .colab-df-quickchart {\n",
              "      --bg-color: #E8F0FE;\n",
              "      --fill-color: #1967D2;\n",
              "      --hover-bg-color: #E2EBFA;\n",
              "      --hover-fill-color: #174EA6;\n",
              "      --disabled-fill-color: #AAA;\n",
              "      --disabled-bg-color: #DDD;\n",
              "  }\n",
              "\n",
              "  [theme=dark] .colab-df-quickchart {\n",
              "      --bg-color: #3B4455;\n",
              "      --fill-color: #D2E3FC;\n",
              "      --hover-bg-color: #434B5C;\n",
              "      --hover-fill-color: #FFFFFF;\n",
              "      --disabled-bg-color: #3B4455;\n",
              "      --disabled-fill-color: #666;\n",
              "  }\n",
              "\n",
              "  .colab-df-quickchart {\n",
              "    background-color: var(--bg-color);\n",
              "    border: none;\n",
              "    border-radius: 50%;\n",
              "    cursor: pointer;\n",
              "    display: none;\n",
              "    fill: var(--fill-color);\n",
              "    height: 32px;\n",
              "    padding: 0;\n",
              "    width: 32px;\n",
              "  }\n",
              "\n",
              "  .colab-df-quickchart:hover {\n",
              "    background-color: var(--hover-bg-color);\n",
              "    box-shadow: 0 1px 2px rgba(60, 64, 67, 0.3), 0 1px 3px 1px rgba(60, 64, 67, 0.15);\n",
              "    fill: var(--button-hover-fill-color);\n",
              "  }\n",
              "\n",
              "  .colab-df-quickchart-complete:disabled,\n",
              "  .colab-df-quickchart-complete:disabled:hover {\n",
              "    background-color: var(--disabled-bg-color);\n",
              "    fill: var(--disabled-fill-color);\n",
              "    box-shadow: none;\n",
              "  }\n",
              "\n",
              "  .colab-df-spinner {\n",
              "    border: 2px solid var(--fill-color);\n",
              "    border-color: transparent;\n",
              "    border-bottom-color: var(--fill-color);\n",
              "    animation:\n",
              "      spin 1s steps(1) infinite;\n",
              "  }\n",
              "\n",
              "  @keyframes spin {\n",
              "    0% {\n",
              "      border-color: transparent;\n",
              "      border-bottom-color: var(--fill-color);\n",
              "      border-left-color: var(--fill-color);\n",
              "    }\n",
              "    20% {\n",
              "      border-color: transparent;\n",
              "      border-left-color: var(--fill-color);\n",
              "      border-top-color: var(--fill-color);\n",
              "    }\n",
              "    30% {\n",
              "      border-color: transparent;\n",
              "      border-left-color: var(--fill-color);\n",
              "      border-top-color: var(--fill-color);\n",
              "      border-right-color: var(--fill-color);\n",
              "    }\n",
              "    40% {\n",
              "      border-color: transparent;\n",
              "      border-right-color: var(--fill-color);\n",
              "      border-top-color: var(--fill-color);\n",
              "    }\n",
              "    60% {\n",
              "      border-color: transparent;\n",
              "      border-right-color: var(--fill-color);\n",
              "    }\n",
              "    80% {\n",
              "      border-color: transparent;\n",
              "      border-right-color: var(--fill-color);\n",
              "      border-bottom-color: var(--fill-color);\n",
              "    }\n",
              "    90% {\n",
              "      border-color: transparent;\n",
              "      border-bottom-color: var(--fill-color);\n",
              "    }\n",
              "  }\n",
              "</style>\n",
              "\n",
              "  <script>\n",
              "    async function quickchart(key) {\n",
              "      const quickchartButtonEl =\n",
              "        document.querySelector('#' + key + ' button');\n",
              "      quickchartButtonEl.disabled = true;  // To prevent multiple clicks.\n",
              "      quickchartButtonEl.classList.add('colab-df-spinner');\n",
              "      try {\n",
              "        const charts = await google.colab.kernel.invokeFunction(\n",
              "            'suggestCharts', [key], {});\n",
              "      } catch (error) {\n",
              "        console.error('Error during call to suggestCharts:', error);\n",
              "      }\n",
              "      quickchartButtonEl.classList.remove('colab-df-spinner');\n",
              "      quickchartButtonEl.classList.add('colab-df-quickchart-complete');\n",
              "    }\n",
              "    (() => {\n",
              "      let quickchartButtonEl =\n",
              "        document.querySelector('#df-110150d9-58eb-4492-b9db-84b27a263eb5 button');\n",
              "      quickchartButtonEl.style.display =\n",
              "        google.colab.kernel.accessAllowed ? 'block' : 'none';\n",
              "    })();\n",
              "  </script>\n",
              "</div>\n",
              "    </div>\n",
              "  </div>\n"
            ],
            "application/vnd.google.colaboratory.intrinsic+json": {
              "type": "dataframe",
              "summary": "{\n  \"name\": \"df\",\n  \"rows\": 8,\n  \"fields\": [\n    {\n      \"column\": \"CustomerID\",\n      \"properties\": {\n        \"dtype\": \"number\",\n        \"std\": 71.77644232399086,\n        \"min\": 1.0,\n        \"max\": 200.0,\n        \"num_unique_values\": 6,\n        \"samples\": [\n          200.0,\n          100.5,\n          150.25\n        ],\n        \"semantic_type\": \"\",\n        \"description\": \"\"\n      }\n    },\n    {\n      \"column\": \"Age\",\n      \"properties\": {\n        \"dtype\": \"number\",\n        \"std\": 60.50135224289181,\n        \"min\": 13.96900733155888,\n        \"max\": 200.0,\n        \"num_unique_values\": 8,\n        \"samples\": [\n          38.85,\n          36.0,\n          200.0\n        ],\n        \"semantic_type\": \"\",\n        \"description\": \"\"\n      }\n    },\n    {\n      \"column\": \"Annual Income (k$)\",\n      \"properties\": {\n        \"dtype\": \"number\",\n        \"std\": 62.01038341270951,\n        \"min\": 15.0,\n        \"max\": 200.0,\n        \"num_unique_values\": 8,\n        \"samples\": [\n          60.56,\n          61.5,\n          200.0\n        ],\n        \"semantic_type\": \"\",\n        \"description\": \"\"\n      }\n    },\n    {\n      \"column\": \"Spending Score (1-100)\",\n      \"properties\": {\n        \"dtype\": \"number\",\n        \"std\": 61.42496609345541,\n        \"min\": 1.0,\n        \"max\": 200.0,\n        \"num_unique_values\": 8,\n        \"samples\": [\n          50.2,\n          50.0,\n          200.0\n        ],\n        \"semantic_type\": \"\",\n        \"description\": \"\"\n      }\n    }\n  ]\n}"
            }
          },
          "metadata": {},
          "execution_count": 5
        }
      ]
    },
    {
      "cell_type": "markdown",
      "source": [
        "Dari data yang diberikan, terdapat empat kolom numerik yang dianalisis: CustomerID, Age, Annual Income (k$), dan Spending Score (1-100).\n",
        "\n",
        "- CustomerID: Kolom ini berisi ID unik untuk setiap pelanggan. Dalam statistik deskriptif, hal yang paling umum yang bisa dilakukan adalah menghitung jumlah entri atau data dalam kolom, yang dalam hal ini adalah 200.\n",
        "\n",
        "- Age: Ini adalah kolom yang berisi informasi tentang usia pelanggan. Rata-rata usia pelanggan dalam dataset ini adalah 38.85 tahun, dengan standar deviasi (deviasi standar) sebesar 13.97 tahun. Nilai minimum adalah 18 tahun dan nilai maksimum adalah 70 tahun. Nilai median atau nilai tengahnya adalah 36 tahun, dan nilai kuartil 1 (Q1) dan kuartil 3 (Q3) masing-masing adalah 28.75 tahun dan 49 tahun.\n",
        "\n",
        "- Annual Income : Ini adalah kolom yang berisi informasi tentang pendapatan tahunan pelanggan dalam ribuan dolar. Rata-rata pendapatan tahunan pelanggan adalah 60.56 ribu dolar, dengan standar deviasi sebesar 26.26 ribu dolar. Nilai minimum adalah 15 ribu dolar dan nilai maksimum adalah 137 ribu dolar. Nilai median atau nilai tengahnya adalah $61.5 ribu, dan nilai kuartil 1 (Q1) dan kuartil 3 (Q3) masing-masing adalah 41.5 ribu dolar dan 78 ribu dolar.\n",
        "\n",
        "- Spending Score (1-100): Ini adalah kolom yang berisi informasi tentang skor pengeluaran pelanggan, yang diberikan dalam rentang 1 hingga 100. Rata-rata skor pengeluaran pelanggan adalah 50.2, dengan standar deviasi sebesar 25.82. Nilai minimum adalah 1 dan nilai maksimum adalah 99. Nilai median atau nilai tengahnya adalah 50, dan nilai kuartil 1 (Q1) dan kuartil 3 (Q3) masing-masing adalah 34.75 dan 73.\n",
        "\n",
        "Dengan demikian, kita dapat mengetahui statistik deskriptif untuk masing-masing kolom numerik dalam dataset ini."
      ],
      "metadata": {
        "id": "nQgC6Rhv0ql3"
      }
    },
    {
      "cell_type": "markdown",
      "source": [
        "##**Exploratory Data Analysis**"
      ],
      "metadata": {
        "id": "r3gVzLSo2O0N"
      }
    },
    {
      "cell_type": "code",
      "source": [
        "plt.hist(df['Age'], bins=20, color='blue', alpha=0.7)\n",
        "plt.xlabel('Age')\n",
        "plt.ylabel('Frequency')\n",
        "plt.title('Age Distribution')\n",
        "plt.show()\n",
        "\n",
        "# Histogram for Annual Income\n",
        "plt.hist(df['Annual Income (k$)'], bins=20, color='green', alpha=0.7)\n",
        "plt.xlabel('Annual Income (k$)')\n",
        "plt.ylabel('Frequency')\n",
        "plt.title('Annual Income Distribution')\n",
        "plt.show()"
      ],
      "metadata": {
        "colab": {
          "base_uri": "https://localhost:8080/",
          "height": 927
        },
        "id": "UagFsDwZ2SaV",
        "outputId": "10e1a18c-dd18-4543-cb1e-48377319dd69"
      },
      "execution_count": null,
      "outputs": [
        {
          "output_type": "display_data",
          "data": {
            "text/plain": [
              "<Figure size 640x480 with 1 Axes>"
            ],
            "image/png": "[encoded data removed]"
          },
          "metadata": {}
        },
        {
          "output_type": "display_data",
          "data": {
            "text/plain": [
              "<Figure size 640x480 with 1 Axes>"
            ],
            "image/png": "[encoded data removed]"
          },
          "metadata": {}
        }
      ]
    },
    {
      "cell_type": "markdown",
      "source": [
        "Visualisasi pertama adalah histogram yang menunjukkan distribusi usia (Age) dari dataset. Histogram menunjukkan frekuensi atau jumlah data dalam setiap interval usia. Dalam visualisasi ini, usia dibagi menjadi 20 interval (bins=20), dan sumbu x menunjukkan rentang usia, sedangkan sumbu y menunjukkan jumlah data dalam interval tersebut.\n",
        "\n",
        "Penjelasan:\n",
        "\n",
        "- Distribusi Usia (Age):\n",
        "Histogram di atas menunjukkan distribusi usia dari pelanggan dalam dataset.\n",
        "Pada sumbu x, kita dapat melihat rentang usia dari pelanggan.\n",
        "Pada sumbu y, kita dapat melihat jumlah pelanggan dalam setiap rentang usia.\n",
        "Distribusi usia ini menunjukkan bahwa mayoritas pelanggan berada dalam rentang usia tertentu, sementara ada juga sejumlah kecil pelanggan di rentang usia yang lebih tua atau lebih muda.\n",
        "Asumsi:\n",
        "\n",
        "Dengan melihat distribusi usia, kita dapat membuat asumsi bahwa toko ini mungkin lebih menarik bagi kelompok usia tertentu, yang mungkin memiliki karakteristik konsumen yang berbeda atau kebutuhan produk yang berbeda. Misalnya, jika mayoritas pelanggan berada dalam rentang usia 20-40 tahun, toko ini mungkin lebih menarik bagi mereka yang aktif secara sosial atau yang mencari produk terkait gaya hidup muda.\n",
        "Visualisasi kedua adalah histogram yang menunjukkan distribusi pendapatan tahunan (Annual Income (k$)) dari dataset. Histogram ini memiliki interpretasi yang serupa dengan histogram pertama, hanya saja yang diplot adalah distribusi pendapatan tahunan pelanggan.\n",
        "\n",
        "Penjelasan:\n",
        "\n",
        "- Distribusi Pendapatan Tahunan (Annual Income (k$)):\n",
        "Histogram di atas menunjukkan distribusi pendapatan tahunan dari pelanggan dalam dataset.\n",
        "Pada sumbu x, kita dapat melihat rentang pendapatan tahunan.\n",
        "Pada sumbu y, kita dapat melihat jumlah pelanggan dalam setiap rentang pendapatan tahunan.\n",
        "Distribusi pendapatan tahunan ini menunjukkan bahwa mayoritas pelanggan memiliki pendapatan tahunan dalam rentang tertentu, sementara ada juga sejumlah kecil pelanggan dengan pendapatan tahunan yang lebih tinggi atau lebih rendah.\n",
        "Asumsi:\n",
        "\n",
        "Dengan melihat distribusi pendapatan tahunan, kita dapat membuat asumsi bahwa toko ini mungkin lebih menarik bagi kelompok dengan pendapatan menengah hingga tinggi. Ini bisa menjadi indikasi bahwa toko ini menawarkan produk dengan harga menengah hingga tinggi, yang mungkin lebih cocok bagi pelanggan dengan pendapatan yang lebih tinggi.\n"
      ],
      "metadata": {
        "id": "O-b8xskD7ccq"
      }
    },
    {
      "cell_type": "markdown",
      "source": [
        "##**Verify Data Quality**"
      ],
      "metadata": {
        "id": "AnHOI_9q7u-8"
      }
    },
    {
      "cell_type": "markdown",
      "source": [
        "####Missing Values"
      ],
      "metadata": {
        "id": "6lQOmsNt7yuZ"
      }
    },
    {
      "cell_type": "code",
      "source": [
        "# Mengecek apakah ada nilai kosong pada setiap kolom\n",
        "missing_values = df.isnull().sum()\n",
        "\n",
        "# Menampilkan jumlah nilai kosong pada tiap kolom\n",
        "print(missing_values)"
      ],
      "metadata": {
        "colab": {
          "base_uri": "https://localhost:8080/"
        },
        "id": "V6xyt7uI72jX",
        "outputId": "4ac5e636-19a8-4317-d857-5355f5be77d5"
      },
      "execution_count": null,
      "outputs": [
        {
          "output_type": "stream",
          "name": "stdout",
          "text": [
            "CustomerID                0\n",
            "Gender                    0\n",
            "Age                       0\n",
            "Annual Income (k$)        0\n",
            "Spending Score (1-100)    0\n",
            "dtype: int64\n"
          ]
        }
      ]
    },
    {
      "cell_type": "markdown",
      "source": [
        "\n",
        "Hasil yang tampilkan menunjukkan bahwa tidak ada nilai kosong (missing values) dalam setiap kolom dataset Anda. Ini terlihat dari hasil missing_values yang semuanya adalah nol.\n",
        "\n",
        "Artinya, setiap kolom dalam dataset memiliki nilai yang lengkap (tidak ada nilai kosong)."
      ],
      "metadata": {
        "id": "xPJGHxqg8C2C"
      }
    },
    {
      "cell_type": "markdown",
      "source": [
        "####Outliers Values"
      ],
      "metadata": {
        "id": "rORa_uAy8qIL"
      }
    },
    {
      "cell_type": "code",
      "source": [
        "# Mendefinisikan fungsi untuk mendeteksi outliers dan menghitung persentase\n",
        "def detect_outliers(column):\n",
        "    # Convert the column to a numeric data type\n",
        "    column = pd.to_numeric(column, errors='coerce')\n",
        "\n",
        "    # Remove NaN values\n",
        "    column = column.dropna()\n",
        "\n",
        "    Q1 = column.quantile(0.25)\n",
        "    Q3 = column.quantile(0.75)\n",
        "    IQR = Q3 - Q1\n",
        "\n",
        "    # Detect outliers\n",
        "    outliers = (column < (Q1 - 1.5 * IQR)) | (column > (Q3 + 1.5 * IQR))\n",
        "\n",
        "    # Calculate the percentage of outliers\n",
        "    percentage_outliers = outliers.sum() / len(column) * 100\n",
        "\n",
        "    return outliers, percentage_outliers\n",
        "\n",
        "\n",
        "# Loop untuk setiap kolom\n",
        "for column in df.columns:\n",
        "    outliers, percentage_outliers = detect_outliers(df[column])\n",
        "\n",
        "    print(f\"Kolom '{column}':\")\n",
        "    print(f\"  - Jumlah outliers: {outliers.sum()}\")\n",
        "    print(f\"  - Persentase kehadiran outliers: {percentage_outliers:.2f}%\")\n",
        "    print()"
      ],
      "metadata": {
        "colab": {
          "base_uri": "https://localhost:8080/"
        },
        "id": "6cg1wAYS866D",
        "outputId": "558c771f-670a-4e9a-9bed-098d899e1ce8"
      },
      "execution_count": null,
      "outputs": [
        {
          "output_type": "stream",
          "name": "stdout",
          "text": [
            "Kolom 'CustomerID':\n",
            "  - Jumlah outliers: 0\n",
            "  - Persentase kehadiran outliers: 0.00%\n",
            "\n",
            "Kolom 'Gender':\n",
            "  - Jumlah outliers: 0\n",
            "  - Persentase kehadiran outliers: nan%\n",
            "\n",
            "Kolom 'Age':\n",
            "  - Jumlah outliers: 0\n",
            "  - Persentase kehadiran outliers: 0.00%\n",
            "\n",
            "Kolom 'Annual Income (k$)':\n",
            "  - Jumlah outliers: 2\n",
            "  - Persentase kehadiran outliers: 1.00%\n",
            "\n",
            "Kolom 'Spending Score (1-100)':\n",
            "  - Jumlah outliers: 0\n",
            "  - Persentase kehadiran outliers: 0.00%\n",
            "\n"
          ]
        },
        {
          "output_type": "stream",
          "name": "stderr",
          "text": [
            "<ipython-input-13-5566fad069cf>:17: RuntimeWarning: invalid value encountered in scalar divide\n",
            "  percentage_outliers = outliers.sum() / len(column) * 100\n"
          ]
        }
      ]
    },
    {
      "cell_type": "markdown",
      "source": [
        "hasil dari dataset ini\n",
        "\n",
        "- Kolom 'CustomerID':\n",
        "\n",
        "Tidak ada nilai outliers karena kolom ini hanya berisi ID pelanggan, yang seharusnya unik dan memiliki rentang nilai yang luas. Oleh karena itu, tidak ada nilai yang signifikan yang jauh dari nilai rata-rata atau nilai-nilai lain dalam dataset.\n",
        "- Kolom 'Gender':\n",
        "\n",
        "Tidak ada nilai outliers karena kolom ini berisi data kategorikal (jenis kelamin), yang tidak dapat dianalisis dengan metode outlier seperti yang Anda gunakan. Metode outlier biasanya digunakan untuk data numerik.\n",
        "- Kolom 'Age':\n",
        "\n",
        "Tidak ada nilai outliers karena kolom ini berisi usia, yang memiliki rentang nilai yang umum dan tidak ada nilai yang jauh dari rentang tersebut. Oleh karena itu, tidak ada nilai yang signifikan yang jauh dari nilai rata-rata atau nilai-nilai lain dalam dataset.\n",
        "- Kolom 'Annual Income (k$)':\n",
        "\n",
        "Terdapat 2 nilai outliers, yang mewakili sekitar 1% dari total data. Hal ini menunjukkan bahwa ada 2 pelanggan dengan pendapatan tahunan yang sangat tinggi atau sangat rendah dibandingkan dengan mayoritas pelanggan lainnya.\n",
        "- Kolom 'Spending Score (1-100)':\n",
        "\n",
        "Tidak ada nilai outliers karena kolom ini berisi skor pengeluaran, yang memiliki rentang nilai yang umum dan tidak ada nilai yang jauh dari rentang tersebut. Oleh karena itu, tidak ada nilai yang signifikan yang jauh dari nilai rata-rata atau nilai-nilai lain dalam dataset.\n",
        "Pada kolom 'CustomerID' dan 'Gender', tidak ada nilai outliers karena jenis datanya bukan numerik dan tidak memiliki rentang nilai yang relevan untuk deteksi outliers. Pada kolom 'Age' dan 'Spending Score (1-100)', tidak ada nilai outliers karena rentang nilai yang umum dan tidak ada nilai yang jauh dari rentang tersebut. Hanya pada kolom 'Annual Income (k$)' terdapat nilai outliers, yang mewakili sekitar 1% dari total data."
      ],
      "metadata": {
        "id": "vBi3Cyej-M4-"
      }
    },
    {
      "cell_type": "markdown",
      "source": [
        "####Duplicated Values"
      ],
      "metadata": {
        "id": "_5XnXDU6-gwd"
      }
    },
    {
      "cell_type": "code",
      "source": [
        "duplicates_by_values = df.duplicated().sum()\n",
        "\n",
        "print(duplicates_by_values)"
      ],
      "metadata": {
        "colab": {
          "base_uri": "https://localhost:8080/"
        },
        "id": "KQl0P61r-mBS",
        "outputId": "8cb84d4c-53ee-4967-f58b-82086efe5644"
      },
      "execution_count": null,
      "outputs": [
        {
          "output_type": "stream",
          "name": "stdout",
          "text": [
            "0\n"
          ]
        }
      ]
    },
    {
      "cell_type": "markdown",
      "source": [
        "hasil dari outputnya adalah 0.\n",
        "\n",
        "tidak ada data yang terduplikat"
      ],
      "metadata": {
        "id": "Z0SPZCUQ-pkw"
      }
    }
  ]
}