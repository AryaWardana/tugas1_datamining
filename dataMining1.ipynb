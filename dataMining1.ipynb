{
  "nbformat": 4,
  "nbformat_minor": 0,
  "metadata": {
    "colab": {
      "provenance": [],
      "authorship_tag": "ABX9TyO5CxbLEukAN1A2wbRn8PU7",
      "include_colab_link": true
    },
    "kernelspec": {
      "name": "python3",
      "display_name": "Python 3"
    },
    "language_info": {
      "name": "python"
    }
  },
  "cells": [
    {
      "cell_type": "markdown",
      "metadata": {
        "id": "view-in-github",
        "colab_type": "text"
      },
      "source": [
        "<a href=\"https://colab.research.google.com/github/AryaWardana/tugas1_datamining/blob/main/dataMining1.ipynb\" target=\"_parent\"><img src=\"https://colab.research.google.com/assets/colab-badge.svg\" alt=\"Open In Colab\"/></a>"
      ]
    },
    {
      "cell_type": "markdown",
      "source": [
        "# **Mall visiting customer**"
      ],
      "metadata": {
        "id": "RAEMoyaKH5sT"
      }
    },
    {
      "cell_type": "markdown",
      "source": [
        "**Business Objective**\n",
        "\n",
        "Tujuan utama adalah memahami dan memprediksi perilaku pelanggan di mal untuk meningkatkan pengalaman berbelanja secara keseluruhan dan meningkatkan penjualan bagi pengecer. Ini termasuk memahami faktor-faktor yang mendorong kunjungan pelanggan, durasi tinggal, dan kemungkinan pembelian selama setiap kunjungan."
      ],
      "metadata": {
        "id": "6AN0sms7H9mS"
      }
    },
    {
      "cell_type": "markdown",
      "source": [
        "**Assess Situationt**\n",
        "\n",
        "Saat ini, manajemen mal kurang memiliki wawasan rinci tentang perilaku pelanggan. Mereka ingin tahu lebih banyak tentang demografi pelanggan, preferensi, dan pola untuk menyesuaikan layanan dan promosi dengan lebih baik. Selain itu, memahami jam kunjungan puncak dan area populer di dalam mal dapat membantu mengoptimalkan penataan dan tata letak."
      ],
      "metadata": {
        "id": "ol9gc0ERIaCI"
      }
    },
    {
      "cell_type": "markdown",
      "source": [
        "**Data Minning Goals**\n",
        "\n",
        "- Segmentasi Pelanggan: Identifikasi segmen pelanggan yang berbeda berdasarkan demografi, frekuensi kunjungan, dan kebiasaan pengeluaran.\n",
        "\n",
        "- Penambangan Aturan Asosiasi: Tentukan toko mana yang sering dikunjungi bersama dan promosi mana yang paling efektif.\n",
        "\n",
        "- Analitika Prediktif: Prediksi pelanggan mana yang mungkin mengunjungi mal, berapa lama mereka akan tinggal, dan berapa banyak uang yang mungkin mereka habiskan.\n",
        "\n",
        "- Sistem Rekomendasi: Sarankan penawaran personalisasi atau rekomendasi toko berdasarkan perilaku masa lalu."
      ],
      "metadata": {
        "id": "CTGyjUTrIpMb"
      }
    },
    {
      "cell_type": "markdown",
      "source": [
        "**Prjocect Plan**\n",
        "\n",
        "- Pengumpulan Data: Kumpulkan data tentang kunjungan pelanggan, transaksi, dan demografi dari basis data mal dan program loyalitas.\n",
        "\n",
        "- Pra-pemrosesan Data: Bersihkan dan siapkan data untuk analisis, termasuk menangani nilai yang hilang dan outlier.\n",
        "\n",
        "- Analisis Data Eksploratif: Pahami distribusi data, korelasi, dan tren.\n",
        "\n",
        "- Modeling: Terapkan berbagai teknik penambangan data seperti pengelompokan, penambangan aturan asosiasi, dan pemodelan prediktif.\n",
        "\n",
        "- Evaluasi: Evaluasi kinerja model menggunakan metrik seperti akurasi, presisi, dan recall.\n",
        "\n",
        "- Implementasi: Implementasikan temuan dan rekomendasi ke dalam operasi mal, strategi pemasaran, dan inisiatif keterlibatan pelanggan."
      ],
      "metadata": {
        "id": "-9iLz-MiI9ql"
      }
    }
  ]
}